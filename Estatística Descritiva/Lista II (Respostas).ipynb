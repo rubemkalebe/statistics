{
 "cells": [
  {
   "cell_type": "markdown",
   "metadata": {},
   "source": [
    "# Lista II - Exercícios da Lista I"
   ]
  },
  {
   "cell_type": "code",
   "execution_count": 1,
   "metadata": {
    "collapsed": true
   },
   "outputs": [],
   "source": [
    "import matplotlib.pyplot as plt\n",
    "\n",
    "import pandas as pd"
   ]
  },
  {
   "cell_type": "markdown",
   "metadata": {},
   "source": [
    "## Questão 01"
   ]
  },
  {
   "cell_type": "code",
   "execution_count": 2,
   "metadata": {},
   "outputs": [
    {
     "data": {
      "text/html": [
       "<div>\n",
       "<style>\n",
       "    .dataframe thead tr:only-child th {\n",
       "        text-align: right;\n",
       "    }\n",
       "\n",
       "    .dataframe thead th {\n",
       "        text-align: left;\n",
       "    }\n",
       "\n",
       "    .dataframe tbody tr th {\n",
       "        vertical-align: top;\n",
       "    }\n",
       "</style>\n",
       "<table border=\"1\" class=\"dataframe\">\n",
       "  <thead>\n",
       "    <tr style=\"text-align: right;\">\n",
       "      <th></th>\n",
       "      <th>Id</th>\n",
       "      <th>Turma</th>\n",
       "      <th>Sexo</th>\n",
       "      <th>Idade</th>\n",
       "      <th>Alt</th>\n",
       "      <th>Peso</th>\n",
       "      <th>Filhos</th>\n",
       "      <th>Fuma</th>\n",
       "      <th>Toler</th>\n",
       "      <th>Exerc</th>\n",
       "      <th>Cine</th>\n",
       "      <th>OpCine</th>\n",
       "      <th>TV</th>\n",
       "      <th>OpTV</th>\n",
       "    </tr>\n",
       "  </thead>\n",
       "  <tbody>\n",
       "    <tr>\n",
       "      <th>0</th>\n",
       "      <td>1</td>\n",
       "      <td>A</td>\n",
       "      <td>F</td>\n",
       "      <td>17</td>\n",
       "      <td>1,60</td>\n",
       "      <td>60,5</td>\n",
       "      <td>2</td>\n",
       "      <td>NAO</td>\n",
       "      <td>P</td>\n",
       "      <td>0</td>\n",
       "      <td>1</td>\n",
       "      <td>B</td>\n",
       "      <td>16</td>\n",
       "      <td>R</td>\n",
       "    </tr>\n",
       "    <tr>\n",
       "      <th>1</th>\n",
       "      <td>2</td>\n",
       "      <td>A</td>\n",
       "      <td>F</td>\n",
       "      <td>18</td>\n",
       "      <td>1,69</td>\n",
       "      <td>55,0</td>\n",
       "      <td>1</td>\n",
       "      <td>NAO</td>\n",
       "      <td>M</td>\n",
       "      <td>0</td>\n",
       "      <td>1</td>\n",
       "      <td>B</td>\n",
       "      <td>7</td>\n",
       "      <td>R</td>\n",
       "    </tr>\n",
       "    <tr>\n",
       "      <th>2</th>\n",
       "      <td>3</td>\n",
       "      <td>A</td>\n",
       "      <td>M</td>\n",
       "      <td>18</td>\n",
       "      <td>1,85</td>\n",
       "      <td>72,8</td>\n",
       "      <td>2</td>\n",
       "      <td>NAO</td>\n",
       "      <td>P</td>\n",
       "      <td>5</td>\n",
       "      <td>2</td>\n",
       "      <td>M</td>\n",
       "      <td>15</td>\n",
       "      <td>R</td>\n",
       "    </tr>\n",
       "    <tr>\n",
       "      <th>3</th>\n",
       "      <td>4</td>\n",
       "      <td>A</td>\n",
       "      <td>M</td>\n",
       "      <td>25</td>\n",
       "      <td>1,85</td>\n",
       "      <td>80,9</td>\n",
       "      <td>2</td>\n",
       "      <td>NAO</td>\n",
       "      <td>P</td>\n",
       "      <td>5</td>\n",
       "      <td>2</td>\n",
       "      <td>B</td>\n",
       "      <td>20</td>\n",
       "      <td>R</td>\n",
       "    </tr>\n",
       "    <tr>\n",
       "      <th>4</th>\n",
       "      <td>5</td>\n",
       "      <td>A</td>\n",
       "      <td>F</td>\n",
       "      <td>19</td>\n",
       "      <td>1,58</td>\n",
       "      <td>55,0</td>\n",
       "      <td>1</td>\n",
       "      <td>NAO</td>\n",
       "      <td>M</td>\n",
       "      <td>2</td>\n",
       "      <td>2</td>\n",
       "      <td>B</td>\n",
       "      <td>5</td>\n",
       "      <td>R</td>\n",
       "    </tr>\n",
       "  </tbody>\n",
       "</table>\n",
       "</div>"
      ],
      "text/plain": [
       "   Id Turma Sexo  Idade   Alt  Peso  Filhos Fuma Toler  Exerc  Cine OpCine  \\\n",
       "0   1     A    F     17  1,60  60,5       2  NAO     P      0     1      B   \n",
       "1   2     A    F     18  1,69  55,0       1  NAO     M      0     1      B   \n",
       "2   3     A    M     18  1,85  72,8       2  NAO     P      5     2      M   \n",
       "3   4     A    M     25  1,85  80,9       2  NAO     P      5     2      B   \n",
       "4   5     A    F     19  1,58  55,0       1  NAO     M      2     2      B   \n",
       "\n",
       "   TV OpTV  \n",
       "0  16    R  \n",
       "1   7    R  \n",
       "2  15    R  \n",
       "3  20    R  \n",
       "4   5    R  "
      ]
     },
     "execution_count": 2,
     "metadata": {},
     "output_type": "execute_result"
    }
   ],
   "source": [
    "# Importando dataset da Tabela 1.1: Informações de questionário estudantil -- dados brutos\n",
    "dataset = pd.read_csv('data/tabela1_1.csv', encoding = 'latin1')\n",
    "\n",
    "dataset.head(5)"
   ]
  },
  {
   "cell_type": "code",
   "execution_count": null,
   "metadata": {
    "collapsed": true
   },
   "outputs": [],
   "source": []
  }
 ],
 "metadata": {
  "kernelspec": {
   "display_name": "Python 3",
   "language": "python",
   "name": "python3"
  },
  "language_info": {
   "codemirror_mode": {
    "name": "ipython",
    "version": 3
   },
   "file_extension": ".py",
   "mimetype": "text/x-python",
   "name": "python",
   "nbconvert_exporter": "python",
   "pygments_lexer": "ipython3",
   "version": "3.6.1"
  }
 },
 "nbformat": 4,
 "nbformat_minor": 2
}

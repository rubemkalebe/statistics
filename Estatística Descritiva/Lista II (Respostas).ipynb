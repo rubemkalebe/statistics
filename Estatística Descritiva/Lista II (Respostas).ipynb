{
 "cells": [
  {
   "cell_type": "markdown",
   "metadata": {},
   "source": [
    "# Lista II - Exercícios da Lista I"
   ]
  },
  {
   "cell_type": "code",
   "execution_count": 19,
   "metadata": {
    "collapsed": true
   },
   "outputs": [],
   "source": [
    "import matplotlib.pyplot as plt\n",
    "\n",
    "import pandas as pd\n",
    "import numpy as np"
   ]
  },
  {
   "cell_type": "markdown",
   "metadata": {},
   "source": [
    "## Questão 01"
   ]
  },
  {
   "cell_type": "code",
   "execution_count": 3,
   "metadata": {},
   "outputs": [
    {
     "data": {
      "text/html": [
       "<div>\n",
       "<style>\n",
       "    .dataframe thead tr:only-child th {\n",
       "        text-align: right;\n",
       "    }\n",
       "\n",
       "    .dataframe thead th {\n",
       "        text-align: left;\n",
       "    }\n",
       "\n",
       "    .dataframe tbody tr th {\n",
       "        vertical-align: top;\n",
       "    }\n",
       "</style>\n",
       "<table border=\"1\" class=\"dataframe\">\n",
       "  <thead>\n",
       "    <tr style=\"text-align: right;\">\n",
       "      <th></th>\n",
       "      <th>Id</th>\n",
       "      <th>Turma</th>\n",
       "      <th>Sexo</th>\n",
       "      <th>Idade</th>\n",
       "      <th>Alt</th>\n",
       "      <th>Peso</th>\n",
       "      <th>Filhos</th>\n",
       "      <th>Fuma</th>\n",
       "      <th>Toler</th>\n",
       "      <th>Exerc</th>\n",
       "      <th>Cine</th>\n",
       "      <th>OpCine</th>\n",
       "      <th>TV</th>\n",
       "      <th>OpTV</th>\n",
       "    </tr>\n",
       "  </thead>\n",
       "  <tbody>\n",
       "    <tr>\n",
       "      <th>0</th>\n",
       "      <td>1</td>\n",
       "      <td>A</td>\n",
       "      <td>F</td>\n",
       "      <td>17</td>\n",
       "      <td>1,60</td>\n",
       "      <td>60,5</td>\n",
       "      <td>2</td>\n",
       "      <td>NAO</td>\n",
       "      <td>P</td>\n",
       "      <td>0</td>\n",
       "      <td>1</td>\n",
       "      <td>B</td>\n",
       "      <td>16</td>\n",
       "      <td>R</td>\n",
       "    </tr>\n",
       "    <tr>\n",
       "      <th>1</th>\n",
       "      <td>2</td>\n",
       "      <td>A</td>\n",
       "      <td>F</td>\n",
       "      <td>18</td>\n",
       "      <td>1,69</td>\n",
       "      <td>55,0</td>\n",
       "      <td>1</td>\n",
       "      <td>NAO</td>\n",
       "      <td>M</td>\n",
       "      <td>0</td>\n",
       "      <td>1</td>\n",
       "      <td>B</td>\n",
       "      <td>7</td>\n",
       "      <td>R</td>\n",
       "    </tr>\n",
       "    <tr>\n",
       "      <th>2</th>\n",
       "      <td>3</td>\n",
       "      <td>A</td>\n",
       "      <td>M</td>\n",
       "      <td>18</td>\n",
       "      <td>1,85</td>\n",
       "      <td>72,8</td>\n",
       "      <td>2</td>\n",
       "      <td>NAO</td>\n",
       "      <td>P</td>\n",
       "      <td>5</td>\n",
       "      <td>2</td>\n",
       "      <td>M</td>\n",
       "      <td>15</td>\n",
       "      <td>R</td>\n",
       "    </tr>\n",
       "    <tr>\n",
       "      <th>3</th>\n",
       "      <td>4</td>\n",
       "      <td>A</td>\n",
       "      <td>M</td>\n",
       "      <td>25</td>\n",
       "      <td>1,85</td>\n",
       "      <td>80,9</td>\n",
       "      <td>2</td>\n",
       "      <td>NAO</td>\n",
       "      <td>P</td>\n",
       "      <td>5</td>\n",
       "      <td>2</td>\n",
       "      <td>B</td>\n",
       "      <td>20</td>\n",
       "      <td>R</td>\n",
       "    </tr>\n",
       "    <tr>\n",
       "      <th>4</th>\n",
       "      <td>5</td>\n",
       "      <td>A</td>\n",
       "      <td>F</td>\n",
       "      <td>19</td>\n",
       "      <td>1,58</td>\n",
       "      <td>55,0</td>\n",
       "      <td>1</td>\n",
       "      <td>NAO</td>\n",
       "      <td>M</td>\n",
       "      <td>2</td>\n",
       "      <td>2</td>\n",
       "      <td>B</td>\n",
       "      <td>5</td>\n",
       "      <td>R</td>\n",
       "    </tr>\n",
       "  </tbody>\n",
       "</table>\n",
       "</div>"
      ],
      "text/plain": [
       "   Id Turma Sexo  Idade   Alt  Peso  Filhos Fuma Toler  Exerc  Cine OpCine  \\\n",
       "0   1     A    F     17  1,60  60,5       2  NAO     P      0     1      B   \n",
       "1   2     A    F     18  1,69  55,0       1  NAO     M      0     1      B   \n",
       "2   3     A    M     18  1,85  72,8       2  NAO     P      5     2      M   \n",
       "3   4     A    M     25  1,85  80,9       2  NAO     P      5     2      B   \n",
       "4   5     A    F     19  1,58  55,0       1  NAO     M      2     2      B   \n",
       "\n",
       "   TV OpTV  \n",
       "0  16    R  \n",
       "1   7    R  \n",
       "2  15    R  \n",
       "3  20    R  \n",
       "4   5    R  "
      ]
     },
     "execution_count": 3,
     "metadata": {},
     "output_type": "execute_result"
    }
   ],
   "source": [
    "# Importando dataset da Tabela 1.1: Informações de questionário estudantil -- dados brutos\n",
    "dataset = pd.read_csv('data/tabela1_1.csv', encoding = 'latin1')\n",
    "\n",
    "dataset.head(5)"
   ]
  },
  {
   "cell_type": "markdown",
   "metadata": {
    "collapsed": true
   },
   "source": [
    "### Gráficos de pizza"
   ]
  },
  {
   "cell_type": "code",
   "execution_count": 15,
   "metadata": {},
   "outputs": [
    {
     "name": "stdout",
     "output_type": "stream",
     "text": [
      "A    26\n",
      "B    24\n",
      "Name: Turma, dtype: int64 [52.0, 48.0]\n"
     ]
    },
    {
     "data": {
      "image/png": "[encoded data removed]",
      "text/plain": [
       "<matplotlib.figure.Figure at 0x7f6ab0baaa20>"
      ]
     },
     "metadata": {},
     "output_type": "display_data"
    },
    {
     "name": "stdout",
     "output_type": "stream",
     "text": [
      "F    37\n",
      "M    13\n",
      "Name: Sexo, dtype: int64 [74.0, 26.0]\n"
     ]
    },
    {
     "data": {
      "image/png": "[encoded data removed]",
      "text/plain": [
       "<matplotlib.figure.Figure at 0x7f6ab0baaac8>"
      ]
     },
     "metadata": {},
     "output_type": "display_data"
    },
    {
     "name": "stdout",
     "output_type": "stream",
     "text": [
      "NAO    44\n",
      "SIM     6\n",
      "Name: Fuma, dtype: int64 [88.0, 12.0]\n"
     ]
    },
    {
     "data": {
      "image/png": "[encoded data removed]",
      "text/plain": [
       "<matplotlib.figure.Figure at 0x7f6ab0ada198>"
      ]
     },
     "metadata": {},
     "output_type": "display_data"
    },
    {
     "name": "stdout",
     "output_type": "stream",
     "text": [
      "R    39\n",
      "N     7\n",
      "B     3\n",
      "M     1\n",
      "Name: OpTV, dtype: int64 [78.0, 14.000000000000002, 6.0, 2.0]\n"
     ]
    },
    {
     "data": {
      "image/png": "[encoded data removed]",
      "text/plain": [
       "<matplotlib.figure.Figure at 0x7f6ab0b6a668>"
      ]
     },
     "metadata": {},
     "output_type": "display_data"
    }
   ],
   "source": [
    "s_turma = sum(dataset['Turma'].value_counts())\n",
    "freq_turma = [(x/s_turma)*100 for x in dataset['Turma'].value_counts()]\n",
    "print(dataset['Turma'].value_counts(), freq_turma)\n",
    "\n",
    "turma_labels = ['A', 'B']#[x.capitalize() for x in set(dataset['Turma'])]\n",
    "plt.pie(freq_turma, labels = turma_labels, autopct='%1.1f%%', shadow = True)\n",
    "plt.title('Separação em turmas')\n",
    "plt.show()\n",
    "\n",
    "s_sexo = sum(dataset['Sexo'].value_counts())\n",
    "freq_sexo = [(x/s_sexo)*100 for x in dataset['Sexo'].value_counts()]\n",
    "print(dataset['Sexo'].value_counts(), freq_sexo)\n",
    "\n",
    "sexo_labels = ['F', 'M']#[x.capitalize() for x in set(dataset['Sexo'])]\n",
    "plt.pie(freq_sexo, labels = sexo_labels, autopct='%1.1f%%', shadow = True)\n",
    "plt.title('Separação em sexo')\n",
    "plt.show()\n",
    "\n",
    "s_fuma = sum(dataset['Fuma'].value_counts())\n",
    "freq_fuma = [(x/s_fuma)*100 for x in dataset['Fuma'].value_counts()]\n",
    "print(dataset['Fuma'].value_counts(), freq_fuma)\n",
    "\n",
    "fuma_labels = ['Não', 'Sim']\n",
    "plt.pie(freq_fuma, labels = fuma_labels, autopct='%1.1f%%', shadow = True)\n",
    "plt.title('Separação por fumante')\n",
    "plt.show()\n",
    "\n",
    "s_optv = sum(dataset['OpTV'].value_counts())\n",
    "freq_optv = [(x/s_optv)*100 for x in dataset['OpTV'].value_counts()]\n",
    "print(dataset['OpTV'].value_counts(), freq_optv)\n",
    "\n",
    "optv_labels = ['Ruim', 'Não sabe', 'Boa', 'Média']\n",
    "plt.pie(freq_optv, labels = optv_labels, autopct='%1.1f%%', shadow = True)\n",
    "plt.title('Separação por opinião a respeito da TV')\n",
    "plt.show()"
   ]
  },
  {
   "cell_type": "markdown",
   "metadata": {},
   "source": [
    "### Gráficos de barras"
   ]
  },
  {
   "cell_type": "code",
   "execution_count": 38,
   "metadata": {},
   "outputs": [
    {
     "data": {
      "image/png": "[encoded data removed]",
      "text/plain": [
       "<matplotlib.figure.Figure at 0x7f6ab0baa5c0>"
      ]
     },
     "metadata": {},
     "output_type": "display_data"
    },
    {
     "data": {
      "image/png": "[encoded data removed]",
      "text/plain": [
       "<matplotlib.figure.Figure at 0x7f6ab0a810b8>"
      ]
     },
     "metadata": {},
     "output_type": "display_data"
    },
    {
     "data": {
      "image/png": "[encoded data removed]",
      "text/plain": [
       "<matplotlib.figure.Figure at 0x7f6ab4162208>"
      ]
     },
     "metadata": {},
     "output_type": "display_data"
    },
    {
     "data": {
      "image/png": "[encoded data removed]",
      "text/plain": [
       "<matplotlib.figure.Figure at 0x7f6ab312d6d8>"
      ]
     },
     "metadata": {},
     "output_type": "display_data"
    },
    {
     "data": {
      "image/png": "[encoded data removed]",
      "text/plain": [
       "<matplotlib.figure.Figure at 0x7f6ab0c2cb00>"
      ]
     },
     "metadata": {},
     "output_type": "display_data"
    },
    {
     "data": {
      "image/png": "[encoded data removed]",
      "text/plain": [
       "<matplotlib.figure.Figure at 0x7f6ab0456470>"
      ]
     },
     "metadata": {},
     "output_type": "display_data"
    }
   ],
   "source": [
    "s_filhos = sum(dataset['Filhos'].value_counts())\n",
    "\n",
    "filhos_labels = ['1', '2', '3', '4', '5', '6', '7']\n",
    "freq_filhos = [56.0, 28.0, 12.0, 2.0, 0.0, 0.0, 2.0]\n",
    "y_pos = np.arange(len(filhos_labels))\n",
    " \n",
    "plt.bar(y_pos, freq_filhos, align = 'center', alpha = 0.5)\n",
    "plt.xticks(y_pos, filhos_labels)\n",
    "plt.ylabel('Porcentagem (%)')\n",
    "plt.xlabel('Quantidade de filhos')\n",
    "plt.title('Números de filhos')\n",
    "plt.show()\n",
    "\n",
    "#######\n",
    "s_toler = sum(dataset['Toler'].value_counts())\n",
    "\n",
    "toler_labels = ['Indiferente', 'Incomoda pouco', 'Incomoda muito']\n",
    "freq_toler = [20.0, 38.0, 42.0]\n",
    "y_pos = np.arange(len(toler_labels))\n",
    " \n",
    "plt.bar(y_pos, freq_toler, align = 'center', alpha = 0.5)\n",
    "plt.xticks(y_pos, toler_labels)\n",
    "plt.ylabel('Porcentagem (%)')\n",
    "plt.xlabel('Níveis de tolerância')\n",
    "plt.title('Tolerância ao cigarro')\n",
    "plt.show()\n",
    "\n",
    "#######\n",
    "s_exerc = sum(dataset['Exerc'].value_counts())\n",
    "\n",
    "exerc_labels = [str(x) for x in range(0, 11)]\n",
    "freq_exerc = [16.0, 6.0, 16.0, 12.0, 8.0, 16.0, 6.0, 1.0, 6.0, 0.0, 4.0]\n",
    "y_pos = np.arange(len(exerc_labels))\n",
    " \n",
    "plt.bar(y_pos, freq_exerc, align = 'center', alpha = 0.5)\n",
    "plt.xticks(y_pos, exerc_labels)\n",
    "plt.ylabel('Porcentagem (%)')\n",
    "plt.xlabel('Horas por semana')\n",
    "plt.title('Horas de atividade física por semana')\n",
    "plt.show()\n",
    "\n",
    "#######\n",
    "s_cine = sum(dataset['Cine'].value_counts())\n",
    "\n",
    "cine_labels = [str(x) for x in range(0, 6)]\n",
    "freq_cine = [6.0, 42.0, 36.0, 6.0, 8.0, 2.0]\n",
    "y_pos = np.arange(len(cine_labels))\n",
    " \n",
    "plt.bar(y_pos, freq_cine, align = 'center', alpha = 0.5)\n",
    "plt.xticks(y_pos, cine_labels)\n",
    "plt.ylabel('Porcentagem (%)')\n",
    "plt.xlabel('Número de vezes')\n",
    "plt.title('Número de vezes que vai ao cinema por semana')\n",
    "plt.show()\n",
    "\n",
    "#######\n",
    "s_opcine = sum(dataset['OpCine'].value_counts())\n",
    "\n",
    "opcine_labels = ['Regular ou boa', 'Muito boa']\n",
    "freq_opcine = [64.0, 36.0]\n",
    "y_pos = np.arange(len(opcine_labels))\n",
    " \n",
    "plt.bar(y_pos, freq_opcine, align = 'center', alpha = 0.5)\n",
    "plt.xticks(y_pos, opcine_labels)\n",
    "plt.ylabel('Porcentagem (%)')\n",
    "plt.xlabel('Opinião')\n",
    "plt.title('Opinião a respeito das salas de cinema da cidade')\n",
    "plt.show()\n",
    "\n",
    "#######\n",
    "idade_labels = [str(x) for x in range(17,26)]\n",
    "freq_idade = [18.0, 44.0, 14.0, 8.0, 6.0, 0.0, 4.0, 2.0, 4.0]\n",
    "y_pos = np.arange(len(idade_labels))\n",
    " \n",
    "plt.bar(y_pos, freq_idade, align = 'center', alpha = 0.5)\n",
    "plt.xticks(y_pos, idade_labels)\n",
    "plt.ylabel('Porcentagem (%)')\n",
    "plt.xlabel('Idade')\n",
    "plt.title('Idade em anos')\n",
    "plt.show()"
   ]
  },
  {
   "cell_type": "code",
   "execution_count": 60,
   "metadata": {},
   "outputs": [
    {
     "data": {
      "text/plain": [
       "18    22\n",
       "17     9\n",
       "19     7\n",
       "20     4\n",
       "21     3\n",
       "25     2\n",
       "23     2\n",
       "24     1\n",
       "Name: Idade, dtype: int64"
      ]
     },
     "execution_count": 60,
     "metadata": {},
     "output_type": "execute_result"
    }
   ],
   "source": [
    "dataset['Idade'].value_counts()"
   ]
  },
  {
   "cell_type": "code",
   "execution_count": 62,
   "metadata": {},
   "outputs": [
    {
     "data": {
      "image/png": "[encoded data removed]",
      "text/plain": [
       "<matplotlib.figure.Figure at 0x7f6aaff27f60>"
      ]
     },
     "metadata": {},
     "output_type": "display_data"
    }
   ],
   "source": [
    "idade_labels2 = ['Menores de 18', 'Entre 18 e 21', 'Maiores de 21']\n",
    "freq_idade2 = [18.0, 72.0, 10.0]\n",
    "y_pos = np.arange(len(idade_labels2))\n",
    " \n",
    "plt.bar(y_pos, freq_idade2, align = 'center', alpha = 0.5)\n",
    "plt.xticks(y_pos, idade_labels2)\n",
    "plt.ylabel('Porcentagem (%)')\n",
    "plt.xlabel('Faixa de idade')\n",
    "plt.title('Divisão por faixa de idade')\n",
    "plt.show()"
   ]
  },
  {
   "cell_type": "markdown",
   "metadata": {},
   "source": [
    "### Histogramas"
   ]
  },
  {
   "cell_type": "code",
   "execution_count": 43,
   "metadata": {},
   "outputs": [
    {
     "name": "stdout",
     "output_type": "stream",
     "text": [
      "1.45 1.85\n",
      "0.05000000000000002 0.08000000000000003\n"
     ]
    },
    {
     "data": {
      "image/png": "[encoded data removed]",
      "text/plain": [
       "<matplotlib.figure.Figure at 0x7f6ab2f8b5c0>"
      ]
     },
     "metadata": {},
     "output_type": "display_data"
    }
   ],
   "source": [
    "alt_ord = sorted([float(x.replace(',', '.')) for x in dataset['Alt']])\n",
    "amplitude = alt_ord[-1] - alt_ord[0]\n",
    "t5 = amplitude/5\n",
    "t8 = amplitude/8\n",
    "\n",
    "print(alt_ord[0], alt_ord[-1])\n",
    "print(t8,t5)\n",
    "# Amplitude das classes = 0,06\n",
    "bins = [1.45, 1.51, 1.57, 1.63, 1.69, 1.75, 1.81, 1.87]\n",
    "\n",
    "plt.hist(alt_ord, bins = bins, edgecolor = 'black', linewidth = 1.2)\n",
    "plt.title('Altura em metros')\n",
    "plt.xlabel('Altura')\n",
    "plt.ylabel('Frequência')\n",
    "\n",
    "plt.show()"
   ]
  },
  {
   "cell_type": "code",
   "execution_count": 45,
   "metadata": {},
   "outputs": [
    {
     "name": "stdout",
     "output_type": "stream",
     "text": [
      "44.0 95.0\n",
      "6.375 10.2\n"
     ]
    },
    {
     "data": {
      "image/png": "[encoded data removed]",
      "text/plain": [
       "<matplotlib.figure.Figure at 0x7f6ab0c01dd8>"
      ]
     },
     "metadata": {},
     "output_type": "display_data"
    }
   ],
   "source": [
    "peso_ord = sorted([float(x.replace(',', '.')) for x in dataset['Peso']])\n",
    "amplitude = peso_ord[-1] - peso_ord[0]\n",
    "t5 = amplitude/5\n",
    "t8 = amplitude/8\n",
    "\n",
    "print(peso_ord[0], peso_ord[-1])\n",
    "print(t8,t5)\n",
    "# Amplitude das classes = 7\n",
    "\n",
    "bins = [44.0, 51.0, 58.0, 65.0, 72.0, 79.0, 86.0, 93.0, 100.0]\n",
    "\n",
    "plt.hist(peso_ord, bins = bins, edgecolor = 'black', linewidth = 1.2)\n",
    "plt.title('Peso em quilogramas')\n",
    "plt.xlabel('Peso')\n",
    "plt.ylabel('Frequência')\n",
    "\n",
    "plt.show()"
   ]
  },
  {
   "cell_type": "code",
   "execution_count": 57,
   "metadata": {},
   "outputs": [
    {
     "name": "stdout",
     "output_type": "stream",
     "text": [
      "0 30\n",
      "3.75 6.0\n"
     ]
    },
    {
     "data": {
      "image/png": "[encoded data removed]",
      "text/plain": [
       "<matplotlib.figure.Figure at 0x7f6ab0b8d828>"
      ]
     },
     "metadata": {},
     "output_type": "display_data"
    }
   ],
   "source": [
    "tv_ord = sorted([int(x) for x in dataset['TV']])\n",
    "amplitude = tv_ord[-1] - tv_ord[0]\n",
    "t5 = amplitude/5\n",
    "t8 = amplitude/8\n",
    "\n",
    "print(tv_ord[0], tv_ord[-1])\n",
    "print(t8,t5)\n",
    "# Amplitude das classes = 5\n",
    "\n",
    "bins = [0, 5, 10, 15, 20, 25, 30]\n",
    "\n",
    "plt.hist(tv_ord, bins = bins, edgecolor = 'black', linewidth = 1.2)\n",
    "plt.ylim(0,20)\n",
    "plt.title('Horas gastas assistindo televisão por semana')\n",
    "plt.xlabel('Horas')\n",
    "plt.ylabel('Frequência absoluta')\n",
    "\n",
    "plt.show()"
   ]
  },
  {
   "cell_type": "code",
   "execution_count": 71,
   "metadata": {},
   "outputs": [
    {
     "name": "stdout",
     "output_type": "stream",
     "text": [
      "Média: 18.9\n",
      "Mediana: 18.0\n",
      "Moda: 0    18\n",
      "dtype: int64\n"
     ]
    }
   ],
   "source": [
    "print('Média: ' + str(dataset['Idade'].mean()))\n",
    "print('Mediana: ' + str(dataset['Idade'].median()))\n",
    "print('Moda: ' + str(dataset['Idade'].mode()))\n",
    "#dataset['Idade'].value_counts()\n",
    "#v = sorted(dataset['Idade'])"
   ]
  },
  {
   "cell_type": "code",
   "execution_count": 72,
   "metadata": {},
   "outputs": [
    {
     "name": "stdout",
     "output_type": "stream",
     "text": [
      "Média: 1.7\n",
      "Mediana: 1.0\n",
      "Moda: 0    1\n",
      "dtype: int64\n"
     ]
    }
   ],
   "source": [
    "print('Média: ' + str(dataset['Filhos'].mean()))\n",
    "print('Mediana: ' + str(dataset['Filhos'].median()))\n",
    "print('Moda: ' + str(dataset['Filhos'].mode()))\n",
    "#dataset['Idade'].value_counts()\n",
    "#v = sorted(dataset['Idade'])"
   ]
  },
  {
   "cell_type": "code",
   "execution_count": 73,
   "metadata": {},
   "outputs": [
    {
     "name": "stdout",
     "output_type": "stream",
     "text": [
      "Média: 3.8\n",
      "Mediana: 3.5\n",
      "Moda: 0    0\n",
      "1    2\n",
      "2    5\n",
      "dtype: int64\n"
     ]
    }
   ],
   "source": [
    "print('Média: ' + str(dataset['Exerc'].mean()))\n",
    "print('Mediana: ' + str(dataset['Exerc'].median()))\n",
    "print('Moda: ' + str(dataset['Exerc'].mode()))\n",
    "#dataset['Idade'].value_counts()\n",
    "#v = sorted(dataset['Idade'])"
   ]
  },
  {
   "cell_type": "code",
   "execution_count": 74,
   "metadata": {},
   "outputs": [
    {
     "name": "stdout",
     "output_type": "stream",
     "text": [
      "Média: 1.74\n",
      "Mediana: 2.0\n",
      "Moda: 0    1\n",
      "dtype: int64\n"
     ]
    }
   ],
   "source": [
    "print('Média: ' + str(dataset['Cine'].mean()))\n",
    "print('Mediana: ' + str(dataset['Cine'].median()))\n",
    "print('Moda: ' + str(dataset['Cine'].mode()))\n",
    "#dataset['Idade'].value_counts()\n",
    "#v = sorted(dataset['Idade'])"
   ]
  },
  {
   "cell_type": "code",
   "execution_count": 76,
   "metadata": {},
   "outputs": [
    {
     "name": "stdout",
     "output_type": "stream",
     "text": [
      "Média: 10.78\n",
      "Mediana: 10.0\n",
      "Moda: 0    10\n",
      "dtype: int64\n"
     ]
    }
   ],
   "source": [
    "print('Média: ' + str(dataset['TV'].mean()))\n",
    "print('Mediana: ' + str(dataset['TV'].median()))\n",
    "print('Moda: ' + str(dataset['TV'].mode()))\n",
    "#dataset['Idade'].value_counts()\n",
    "#v = sorted(dataset['Idade'])"
   ]
  },
  {
   "cell_type": "code",
   "execution_count": 77,
   "metadata": {
    "collapsed": true
   },
   "outputs": [],
   "source": [
    "def mean(v):\n",
    "    return sum(v)/len(v)"
   ]
  },
  {
   "cell_type": "code",
   "execution_count": 94,
   "metadata": {
    "collapsed": true
   },
   "outputs": [],
   "source": [
    "def median(v):\n",
    "    if len(v) % 2 == 0:\n",
    "        return mean([v[int(len(v)/2) - 1], v[int(len(v)/2)]])\n",
    "    else:\n",
    "        return v[int(len(v)/2)]"
   ]
  },
  {
   "cell_type": "code",
   "execution_count": 98,
   "metadata": {},
   "outputs": [
    {
     "name": "stdout",
     "output_type": "stream",
     "text": [
      "Média: 1.672\n",
      "Mediana: 1.665\n"
     ]
    },
    {
     "data": {
      "text/plain": [
       "1,70    6\n",
       "1,60    5\n",
       "1,65    4\n",
       "1,55    3\n",
       "1,62    3\n",
       "1,85    3\n",
       "1,80    2\n",
       "1,64    2\n",
       "1,57    2\n",
       "1,68    2\n",
       "1,73    2\n",
       "1,69    2\n",
       "1,76    2\n",
       "1,45    1\n",
       "1,54    1\n",
       "1,71    1\n",
       "1,61    1\n",
       "1,83    1\n",
       "1,63    1\n",
       "1,72    1\n",
       "1,78    1\n",
       "1,58    1\n",
       "1,82    1\n",
       "1,66    1\n",
       "1,67    1\n",
       "Name: Alt, dtype: int64"
      ]
     },
     "execution_count": 98,
     "metadata": {},
     "output_type": "execute_result"
    }
   ],
   "source": [
    "print('Média: ' + str(mean(sorted([float(x.replace(',', '.')) for x in dataset['Alt']]))))\n",
    "print('Mediana: ' + str(median(sorted([float(x.replace(',', '.')) for x in dataset['Alt']]))))\n",
    "dataset['Alt'].value_counts()"
   ]
  },
  {
   "cell_type": "code",
   "execution_count": 99,
   "metadata": {},
   "outputs": [
    {
     "name": "stdout",
     "output_type": "stream",
     "text": [
      "Média: 60.928000000000004\n",
      "Mediana: 58.0\n"
     ]
    },
    {
     "data": {
      "text/plain": [
       "58,0    4\n",
       "55,0    4\n",
       "60,0    3\n",
       "52,0    2\n",
       "49,0    2\n",
       "73,0    2\n",
       "50,0    2\n",
       "47,0    2\n",
       "54,5    2\n",
       "54,0    1\n",
       "57,8    1\n",
       "63,0    1\n",
       "51,6    1\n",
       "63,5    1\n",
       "47,4    1\n",
       "86,0    1\n",
       "68,5    1\n",
       "66,0    1\n",
       "85,2    1\n",
       "58,5    1\n",
       "70,0    1\n",
       "95,0    1\n",
       "49,2    1\n",
       "57,0    1\n",
       "72,8    1\n",
       "84,0    1\n",
       "52,5    1\n",
       "71,0    1\n",
       "59,0    1\n",
       "75,0    1\n",
       "60,5    1\n",
       "56,0    1\n",
       "87,0    1\n",
       "48,0    1\n",
       "44,0    1\n",
       "80,9    1\n",
       "Name: Peso, dtype: int64"
      ]
     },
     "execution_count": 99,
     "metadata": {},
     "output_type": "execute_result"
    }
   ],
   "source": [
    "print('Média: ' + str(mean(sorted([float(x.replace(',', '.')) for x in dataset['Peso']]))))\n",
    "print('Mediana: ' + str(median(sorted([float(x.replace(',', '.')) for x in dataset['Peso']]))))\n",
    "dataset['Peso'].value_counts()"
   ]
  },
  {
   "cell_type": "code",
   "execution_count": null,
   "metadata": {
    "collapsed": true
   },
   "outputs": [],
   "source": []
  }
 ],
 "metadata": {
  "kernelspec": {
   "display_name": "Python 3",
   "language": "python",
   "name": "python3"
  },
  "language_info": {
   "codemirror_mode": {
    "name": "ipython",
    "version": 3
   },
   "file_extension": ".py",
   "mimetype": "text/x-python",
   "name": "python",
   "nbconvert_exporter": "python",
   "pygments_lexer": "ipython3",
   "version": "3.6.1"
  }
 },
 "nbformat": 4,
 "nbformat_minor": 2
}
